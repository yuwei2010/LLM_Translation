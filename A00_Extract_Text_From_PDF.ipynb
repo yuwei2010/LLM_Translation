{
 "cells": [
  {
   "cell_type": "code",
   "execution_count": 67,
   "metadata": {},
   "outputs": [
    {
     "name": "stdout",
     "output_type": "stream",
     "text": [
      "The autoreload extension is already loaded. To reload it, use:\n",
      "  %reload_ext autoreload\n"
     ]
    }
   ],
   "source": [
    "%load_ext autoreload\n",
    "%autoreload 2"
   ]
  },
  {
   "cell_type": "code",
   "execution_count": 4,
   "metadata": {},
   "outputs": [],
   "source": [
    "import pandas as pd\n",
    "import numpy as np\n",
    "from datasurfer.lib_objects.pdf_object import PDFPagesObject\n",
    "from datasurfer.datautils import xml_valid_df\n",
    "from pathlib import Path"
   ]
  },
  {
   "cell_type": "code",
   "execution_count": 56,
   "metadata": {},
   "outputs": [],
   "source": [
    "num_chapter = 7\n",
    "rng_pages = (493-1, 577)\n",
    "\n",
    "root = Path(r'C:\\95_Programming\\70_Language_Related\\10_LLM_Translation\\20_Integrale_Sicherheit_von_Kraftfahrzeugen')\n",
    "wdir = root / f'{num_chapter:02d}_ISK_Chapter_{num_chapter:02d}'\n",
    "wdir.mkdir(exist_ok=True)\n",
    "fdst = wdir / f'ISK_Chapter_{num_chapter:02d}_Original.xlsx'"
   ]
  },
  {
   "cell_type": "code",
   "execution_count": 57,
   "metadata": {},
   "outputs": [],
   "source": [
    "pobj = PDFPagesObject(root / 'ISK.pdf', range(*rng_pages))\n",
    "df = pobj.dataframe"
   ]
  },
  {
   "cell_type": "code",
   "execution_count": 58,
   "metadata": {},
   "outputs": [],
   "source": [
    "\n",
    "df = df[df.text.str.strip().str.len()>0].reset_index(drop=True)\n",
    "df['rel_pagenum'] = df.page_num.astype(int) - df.page_num.astype(int).min()\n"
   ]
  },
  {
   "cell_type": "code",
   "execution_count": 59,
   "metadata": {},
   "outputs": [],
   "source": [
    "df = df[df.text.str.contains(r'[a-zA-Z]+', regex=True)].reset_index(drop=True)"
   ]
  },
  {
   "cell_type": "code",
   "execution_count": 60,
   "metadata": {},
   "outputs": [],
   "source": [
    "\n",
    "def remove_title_line(df):\n",
    "    count = 0\n",
    "    for i, (text, num) in df[['text', 'rel_pagenum']].iterrows():  \n",
    "        if num > count:\n",
    "            count += 1       \n",
    "        else:        \n",
    "            yield([text, num])\n",
    "        \n",
    "out0 = list(remove_title_line(df))\n",
    "\n"
   ]
  },
  {
   "cell_type": "code",
   "execution_count": 61,
   "metadata": {},
   "outputs": [],
   "source": [
    "def split_paragraph(text, threshold=0.8):\n",
    "    \n",
    "    lst_text = np.array([txt for txt in text.split('\\n') if txt.strip()])\n",
    "    larr = np.array([len(txt) for txt in lst_text])\n",
    "    isnewline = larr < (larr.max() * threshold)\n",
    "    \n",
    "    out = ''\n",
    "    for isnl, txt in zip(isnewline, lst_text):\n",
    "        if isnl:\n",
    "            out += txt\n",
    "            yield out\n",
    "            out = ''\n",
    "        else:\n",
    "            out += txt.rstrip('-')\n",
    "            \n",
    "    if len(out) > 0:      \n",
    "        yield out\n",
    "\n",
    "    \n"
   ]
  },
  {
   "cell_type": "code",
   "execution_count": 62,
   "metadata": {},
   "outputs": [],
   "source": [
    "\n",
    "def yield_paragraphs(out0):\n",
    "\n",
    "    for text, num in out0:\n",
    "        for txt in split_paragraph(text):\n",
    "            yield [txt, num]\n",
    "            \n",
    "out1 = list(yield_paragraphs(out0))\n"
   ]
  },
  {
   "cell_type": "code",
   "execution_count": 63,
   "metadata": {},
   "outputs": [],
   "source": [
    "\n",
    "def merge_paragraphs(out1):\n",
    "    \n",
    "    iterator = iter(out1)\n",
    "    line0, num0 = next(iterator)\n",
    "    while True:\n",
    "        try:       \n",
    "            line1, num1 = next(iterator)\n",
    "        except StopIteration:\n",
    "            yield line0, num0\n",
    "            break\n",
    "        if num1 > num0:\n",
    "        \n",
    "            if line0.strip()[-1] not in '.!?:;':\n",
    "                line = line0 + ' ' + line1\n",
    "                yield line, num0\n",
    "                try:\n",
    "                    line0, num0 = next(iterator)\n",
    "                except StopIteration:\n",
    "                    yield line0, num0\n",
    "                    break\n",
    "            else:\n",
    "                yield line0, num0\n",
    "                line0 = line1\n",
    "                num0 = num1            \n",
    "        else:\n",
    "            yield line0, num0   \n",
    "            line0 = line1\n",
    "            num0 = num1\n",
    "            \n",
    "out2 = list(merge_paragraphs(out1))"
   ]
  },
  {
   "cell_type": "code",
   "execution_count": 64,
   "metadata": {},
   "outputs": [],
   "source": [
    "dfout = pd.DataFrame(out2, columns=['Original', 'Page'])\n",
    "dfout['Translation'] =  None\n",
    "dfout['Review'] = 4 \n",
    "\n",
    "dfout = xml_valid_df(dfout[['Page', 'Original', 'Translation', 'Review']])\n",
    "dfout.Page = dfout.Page.astype('int') + df.page_num.min() + 1\n",
    "\n",
    "dfout = dfout[~dfout['Original'].str.isnumeric()]\n",
    "dfout = dfout[~(dfout['Original'].str.strip().str.len()<2)]\n",
    "dfout.reset_index(drop=True, inplace=True)"
   ]
  },
  {
   "cell_type": "code",
   "execution_count": 65,
   "metadata": {},
   "outputs": [],
   "source": [
    "dfout.to_excel(fdst, index=False)"
   ]
  },
  {
   "cell_type": "code",
   "execution_count": 1,
   "metadata": {},
   "outputs": [],
   "source": [
    "from trans_preproc import extract_chapter_text"
   ]
  },
  {
   "cell_type": "code",
   "execution_count": 7,
   "metadata": {},
   "outputs": [],
   "source": [
    "num_chapter = 7\n",
    "rng_pages = range(493-1, 577)\n",
    "root = Path(r'C:\\95_Programming\\70_Language_Related\\10_LLM_Translation\\20_Integrale_Sicherheit_von_Kraftfahrzeugen')\n",
    "wdir = root / f'{num_chapter:02d}_ISK_Chapter_{num_chapter:02d}'\n",
    "wdir.mkdir(exist_ok=True)\n",
    "fdst = wdir / f'ISK_Chapter_{num_chapter:02d}_Original.xlsx'\n",
    "\n",
    "extract_chapter_text(root/'ISK.pdf', rng_pages).to_excel(fdst, index=False)"
   ]
  }
 ],
 "metadata": {
  "kernelspec": {
   "display_name": "my_root",
   "language": "python",
   "name": "python3"
  },
  "language_info": {
   "codemirror_mode": {
    "name": "ipython",
    "version": 3
   },
   "file_extension": ".py",
   "mimetype": "text/x-python",
   "name": "python",
   "nbconvert_exporter": "python",
   "pygments_lexer": "ipython3",
   "version": "3.11.0"
  }
 },
 "nbformat": 4,
 "nbformat_minor": 2
}
